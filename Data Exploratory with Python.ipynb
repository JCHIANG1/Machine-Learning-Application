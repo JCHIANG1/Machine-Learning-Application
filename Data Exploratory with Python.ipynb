{
 "cells": [
  {
   "cell_type": "code",
   "execution_count": 2,
   "metadata": {
    "collapsed": true
   },
   "outputs": [],
   "source": [
    "import numpy as np\n",
    "import pandas as pd\n",
    "import matplotlib.pyplot as plt\n",
    "import seaborn as sns"
   ]
  },
  {
   "cell_type": "code",
   "execution_count": 46,
   "metadata": {
    "collapsed": true
   },
   "outputs": [],
   "source": [
    "table = pd.read_csv(\"C:/Users/Rai Chiang/Desktop/bank_data.csv\",delimiter=\",\")"
   ]
  },
  {
   "cell_type": "markdown",
   "metadata": {},
   "source": [
    "### 1.Explore the general characteristics of the data as a whole: examine the means, standard deviations, and other statistics associated with the numerical attributes and the categorical attributes"
   ]
  },
  {
   "cell_type": "markdown",
   "metadata": {},
   "source": [
    "#### The distribution associated with numerical attributes"
   ]
  },
  {
   "cell_type": "code",
   "execution_count": 48,
   "metadata": {},
   "outputs": [
    {
     "data": {
      "text/html": [
       "<div>\n",
       "<style scoped>\n",
       "    .dataframe tbody tr th:only-of-type {\n",
       "        vertical-align: middle;\n",
       "    }\n",
       "\n",
       "    .dataframe tbody tr th {\n",
       "        vertical-align: top;\n",
       "    }\n",
       "\n",
       "    .dataframe thead th {\n",
       "        text-align: right;\n",
       "    }\n",
       "</style>\n",
       "<table border=\"1\" class=\"dataframe\">\n",
       "  <thead>\n",
       "    <tr style=\"text-align: right;\">\n",
       "      <th></th>\n",
       "      <th>age</th>\n",
       "      <th>income</th>\n",
       "      <th>children</th>\n",
       "    </tr>\n",
       "  </thead>\n",
       "  <tbody>\n",
       "    <tr>\n",
       "      <th>count</th>\n",
       "      <td>600.000000</td>\n",
       "      <td>600.000000</td>\n",
       "      <td>600.000000</td>\n",
       "    </tr>\n",
       "    <tr>\n",
       "      <th>mean</th>\n",
       "      <td>42.395000</td>\n",
       "      <td>27524.031217</td>\n",
       "      <td>1.011667</td>\n",
       "    </tr>\n",
       "    <tr>\n",
       "      <th>std</th>\n",
       "      <td>14.424947</td>\n",
       "      <td>12899.468246</td>\n",
       "      <td>1.056752</td>\n",
       "    </tr>\n",
       "    <tr>\n",
       "      <th>min</th>\n",
       "      <td>18.000000</td>\n",
       "      <td>5014.210000</td>\n",
       "      <td>0.000000</td>\n",
       "    </tr>\n",
       "    <tr>\n",
       "      <th>25%</th>\n",
       "      <td>30.000000</td>\n",
       "      <td>17264.500000</td>\n",
       "      <td>0.000000</td>\n",
       "    </tr>\n",
       "    <tr>\n",
       "      <th>50%</th>\n",
       "      <td>42.000000</td>\n",
       "      <td>24925.300000</td>\n",
       "      <td>1.000000</td>\n",
       "    </tr>\n",
       "    <tr>\n",
       "      <th>75%</th>\n",
       "      <td>55.250000</td>\n",
       "      <td>36172.675000</td>\n",
       "      <td>2.000000</td>\n",
       "    </tr>\n",
       "    <tr>\n",
       "      <th>max</th>\n",
       "      <td>67.000000</td>\n",
       "      <td>63130.100000</td>\n",
       "      <td>3.000000</td>\n",
       "    </tr>\n",
       "  </tbody>\n",
       "</table>\n",
       "</div>"
      ],
      "text/plain": [
       "              age        income    children\n",
       "count  600.000000    600.000000  600.000000\n",
       "mean    42.395000  27524.031217    1.011667\n",
       "std     14.424947  12899.468246    1.056752\n",
       "min     18.000000   5014.210000    0.000000\n",
       "25%     30.000000  17264.500000    0.000000\n",
       "50%     42.000000  24925.300000    1.000000\n",
       "75%     55.250000  36172.675000    2.000000\n",
       "max     67.000000  63130.100000    3.000000"
      ]
     },
     "execution_count": 48,
     "metadata": {},
     "output_type": "execute_result"
    }
   ],
   "source": [
    "dtb=table[[\"age\",\"income\",\"children\"]]\n",
    "dtb.describe()"
   ]
  },
  {
   "cell_type": "code",
   "execution_count": 50,
   "metadata": {},
   "outputs": [
    {
     "data": {
      "text/plain": [
       "<matplotlib.axes._subplots.AxesSubplot at 0xe646c50>"
      ]
     },
     "execution_count": 50,
     "metadata": {},
     "output_type": "execute_result"
    },
    {
     "data": {
      "image/png": "[encoded data removed]",
      "text/plain": [
       "<Figure size 432x288 with 1 Axes>"
      ]
     },
     "metadata": {},
     "output_type": "display_data"
    }
   ],
   "source": [
    "sns.boxplot( y=dtb[\"age\"] )"
   ]
  },
  {
   "cell_type": "code",
   "execution_count": 49,
   "metadata": {},
   "outputs": [
    {
     "data": {
      "text/plain": [
       "<matplotlib.axes._subplots.AxesSubplot at 0x1044f908>"
      ]
     },
     "execution_count": 49,
     "metadata": {},
     "output_type": "execute_result"
    },
    {
     "data": {
      "image/png": "[encoded data removed]",
      "text/plain": [
       "<Figure size 432x288 with 1 Axes>"
      ]
     },
     "metadata": {},
     "output_type": "display_data"
    }
   ],
   "source": [
    "sns.boxplot( y=dtb[\"income\"] )"
   ]
  },
  {
   "cell_type": "code",
   "execution_count": 51,
   "metadata": {},
   "outputs": [
    {
     "data": {
      "text/plain": [
       "<matplotlib.axes._subplots.AxesSubplot at 0x109af470>"
      ]
     },
     "execution_count": 51,
     "metadata": {},
     "output_type": "execute_result"
    },
    {
     "data": {
      "image/png": "[encoded data removed]",
      "text/plain": [
       "<Figure size 432x288 with 1 Axes>"
      ]
     },
     "metadata": {},
     "output_type": "display_data"
    }
   ],
   "source": [
    "sns.boxplot( y=dtb[\"children\"] )"
   ]
  },
  {
   "cell_type": "markdown",
   "metadata": {},
   "source": [
    "##### The distribution associated with the categorical attributes"
   ]
  },
  {
   "cell_type": "code",
   "execution_count": 184,
   "metadata": {},
   "outputs": [
    {
     "name": "stdout",
     "output_type": "stream",
     "text": [
      "                       mean       std  min  25%  50%  75%  max\n",
      "gender_FEMALE      0.500000  0.500417  0.0  0.0  0.5  1.0  1.0\n",
      "gender_MALE        0.500000  0.500417  0.0  0.0  0.5  1.0  1.0\n",
      "region_INNER_CITY  0.448333  0.497738  0.0  0.0  0.0  1.0  1.0\n",
      "region_RURAL       0.160000  0.366912  0.0  0.0  0.0  0.0  1.0\n",
      "region_SUBURBAN    0.103333  0.304648  0.0  0.0  0.0  0.0  1.0\n",
      "region_TOWN        0.288333  0.453365  0.0  0.0  0.0  1.0  1.0\n",
      "married_NO         0.340000  0.474104  0.0  0.0  0.0  1.0  1.0\n",
      "married_YES        0.660000  0.474104  0.0  0.0  1.0  1.0  1.0\n",
      "car_NO             0.506667  0.500373  0.0  0.0  1.0  1.0  1.0\n",
      "car_YES            0.493333  0.500373  0.0  0.0  0.0  1.0  1.0\n",
      "savings_acct_NO    0.310000  0.462879  0.0  0.0  0.0  1.0  1.0\n",
      "savings_acct_YES   0.690000  0.462879  0.0  0.0  1.0  1.0  1.0\n",
      "current_acct_NO    0.241667  0.428451  0.0  0.0  0.0  0.0  1.0\n",
      "current_acct_YES   0.758333  0.428451  0.0  1.0  1.0  1.0  1.0\n",
      "mortgage_NO        0.651667  0.476840  0.0  0.0  1.0  1.0  1.0\n",
      "mortgage_YES       0.348333  0.476840  0.0  0.0  0.0  1.0  1.0\n",
      "pep_NO             0.543333  0.498534  0.0  0.0  1.0  1.0  1.0\n",
      "pep_YES            0.456667  0.498534  0.0  0.0  0.0  1.0  1.0\n"
     ]
    },
    {
     "data": {
      "text/plain": [
       "(Index([u'gender_FEMALE', u'gender_MALE', u'region_INNER_CITY', u'region_RURAL',\n",
       "        u'region_SUBURBAN', u'region_TOWN', u'married_NO', u'married_YES',\n",
       "        u'car_NO', u'car_YES', u'savings_acct_NO', u'savings_acct_YES',\n",
       "        u'current_acct_NO', u'current_acct_YES', u'mortgage_NO',\n",
       "        u'mortgage_YES', u'pep_NO', u'pep_YES'],\n",
       "       dtype='object'), <matplotlib.axes._subplots.AxesSubplot at 0x11d32748>)"
      ]
     },
     "execution_count": 184,
     "metadata": {},
     "output_type": "execute_result"
    },
    {
     "data": {
      "image/png": "[encoded data removed]",
      "text/plain": [
       "<Figure size 432x288 with 1 Axes>"
      ]
     },
     "metadata": {},
     "output_type": "display_data"
    }
   ],
   "source": [
    "cattb=table[[\"gender\",\"region\",\"married\",\"car\",\"savings_acct\",\"current_acct\",\"mortgage\",\"pep\"]]\n",
    "cattb=pd.get_dummies(cattb).describe()\n",
    "cattb=cattb.drop([\"count\"],axis=0)\n",
    "\n",
    "\n",
    "print cattb.T\n",
    "cattb1.columns, cattb.boxplot()\n"
   ]
  },
  {
   "cell_type": "markdown",
   "metadata": {},
   "source": [
    "### 2.Compare and contrast the subsets of customers who buy and don't buy the PEP(Personal Equity Plan)"
   ]
  },
  {
   "cell_type": "code",
   "execution_count": 193,
   "metadata": {},
   "outputs": [
    {
     "name": "stdout",
     "output_type": "stream",
     "text": [
      "customers who buy the PEP => original\n",
      "              age        income    children\n",
      "count  274.000000    274.000000  274.000000\n",
      "mean    45.127737  30644.919453    0.945255\n",
      "std     14.327991  13609.613043    0.860571\n",
      "min     18.000000   7756.360000    0.000000\n",
      "25%     34.000000  19639.475000    0.000000\n",
      "50%     45.000000  28080.050000    1.000000\n",
      "75%     58.000000  38458.350000    1.000000\n",
      "max     67.000000  63130.100000    3.000000\n",
      "\n",
      "customers who buy the PEP => normalized\n",
      "              age      income    children\n",
      "count  274.000000  274.000000  274.000000\n",
      "mean     0.553627    0.413347    0.315085\n",
      "std      0.292408    0.245777    0.286857\n",
      "min      0.000000    0.000000    0.000000\n",
      "25%      0.326531    0.214598    0.000000\n",
      "50%      0.551020    0.367028    0.333333\n",
      "75%      0.816327    0.554450    0.333333\n",
      "max      1.000000    1.000000    1.000000\n"
     ]
    },
    {
     "data": {
      "image/png": "[encoded data removed]",
      "text/plain": [
       "<Figure size 432x288 with 1 Axes>"
      ]
     },
     "metadata": {},
     "output_type": "display_data"
    }
   ],
   "source": [
    "#customers who buy the PEP\n",
    "\n",
    "y_tb1=table[table.pep==\"YES\"]\n",
    "y_tb=y_tb1.drop([\"id\",\"gender\",\"region\",\"married\",\"car\",\"savings_acct\",\"current_acct\",\"mortgage\"],axis=1)\n",
    "y_tb=y_tb[[\"age\",\"income\",\"children\"]]\n",
    "normal_ytb=(y_tb-y_tb.min()) /(y_tb.max()-y_tb.min())\n",
    "normal_ytb1=normal_ytb.describe()\n",
    "normal_ytb1.drop([\"count\"],axis=0).boxplot()\n",
    "print \"customers who buy the PEP => original\"\n",
    "print y_tb1.describe()\n",
    "print\n",
    "print \"customers who buy the PEP => normalized\"\n",
    "print normal_ytb1"
   ]
  },
  {
   "cell_type": "code",
   "execution_count": 192,
   "metadata": {},
   "outputs": [
    {
     "name": "stdout",
     "output_type": "stream",
     "text": [
      "customers who don't buy the PEP => original\n",
      "              age        income    children\n",
      "count  326.000000    326.000000  326.000000\n",
      "mean    40.098160  24900.953374    1.067485\n",
      "std     14.123506  11661.123422    1.195524\n",
      "min     18.000000   5014.210000    0.000000\n",
      "25%     27.000000  15366.475000    0.000000\n",
      "50%     40.000000  23105.000000    0.000000\n",
      "75%     51.000000  31210.900000    2.000000\n",
      "max     67.000000  61554.600000    3.000000\n",
      "\n",
      "customers who don't buy the PEP => normalized\n",
      "              age      income    children\n",
      "count  326.000000  326.000000  326.000000\n",
      "mean     0.450983    0.351726    0.355828\n",
      "std      0.288235    0.206244    0.398508\n",
      "min      0.000000    0.000000    0.000000\n",
      "25%      0.183673    0.183095    0.000000\n",
      "50%      0.448980    0.319962    0.000000\n",
      "75%      0.673469    0.463327    0.666667\n",
      "max      1.000000    1.000000    1.000000\n"
     ]
    },
    {
     "data": {
      "image/png": "[encoded data removed]",
      "text/plain": [
       "<Figure size 432x288 with 1 Axes>"
      ]
     },
     "metadata": {},
     "output_type": "display_data"
    }
   ],
   "source": [
    "#customers who don't buy the PEP\n",
    "\n",
    "n_tb1=table[table.pep ==\"NO\"]\n",
    "n_tb=n_tb1.drop([\"id\",\"gender\",\"region\",\"married\",\"car\",\"savings_acct\",\"current_acct\",\"mortgage\"],axis=1)\n",
    "n_tb=n_tb[[\"age\",\"income\",\"children\"]]\n",
    "normal_ntb=(n_tb-n_tb.min()) /(n_tb.max()-n_tb.min())\n",
    "normal_ntb1=normal_ntb.describe()\n",
    "normal_ntb1.drop([\"count\"],axis=0).boxplot()\n",
    "print \"customers who don't buy the PEP => original\"\n",
    "print n_tb1.describe()\n",
    "print \n",
    "print \"customers who don't buy the PEP => normalized\"\n",
    "print normal_ntb1\n"
   ]
  },
  {
   "cell_type": "markdown",
   "metadata": {},
   "source": [
    "##### After normalized the variables and plot them as boxplots, it seems that variable children is the most significant variable among two grops. Compared with customer who buy pep, customer who don't buy pep have higher variation in the number of children they have.\n",
    "---------------------------------------------------------------------------"
   ]
  },
  {
   "cell_type": "markdown",
   "metadata": {},
   "source": [
    "### 3.Use z-score normalization to standardize the values of the income attribute. [Without changing the original income attribute in the table.]"
   ]
  },
  {
   "cell_type": "code",
   "execution_count": 84,
   "metadata": {
    "scrolled": true
   },
   "outputs": [
    {
     "name": "stdout",
     "output_type": "stream",
     "text": [
      "z-score normalization for income\n"
     ]
    },
    {
     "data": {
      "text/plain": [
       "0     -0.773523\n",
       "1      0.198541\n",
       "2     -0.848766\n",
       "3     -0.554180\n",
       "4      1.787071\n",
       "5      0.802015\n",
       "6     -1.445560\n",
       "7     -0.199809\n",
       "8     -0.172079\n",
       "9     -0.256749\n",
       "10     2.502419\n",
       "11    -0.067075\n",
       "12    -0.913854\n",
       "13     2.145877\n",
       "14    -0.624013\n",
       "15    -0.401717\n",
       "16    -0.759274\n",
       "17     1.045932\n",
       "18    -0.047663\n",
       "19    -0.387708\n",
       "20     2.353327\n",
       "21    -0.854821\n",
       "22     0.846746\n",
       "23    -0.929126\n",
       "24    -1.153825\n",
       "25     1.047328\n",
       "26    -0.520512\n",
       "27    -0.574445\n",
       "28     0.142259\n",
       "29    -0.252253\n",
       "         ...   \n",
       "570    0.476102\n",
       "571    0.669963\n",
       "572    0.014642\n",
       "573   -0.397174\n",
       "574    0.073326\n",
       "575    0.229774\n",
       "576   -0.648378\n",
       "577    1.381334\n",
       "578   -1.645790\n",
       "579   -0.185770\n",
       "580    1.888083\n",
       "581   -1.153469\n",
       "582   -0.429446\n",
       "583    0.121638\n",
       "584   -0.309752\n",
       "585   -1.395958\n",
       "586   -0.710039\n",
       "587    0.290692\n",
       "588    1.717092\n",
       "589   -1.155135\n",
       "590   -0.287255\n",
       "591    0.306204\n",
       "592   -0.562506\n",
       "593    1.852244\n",
       "594    0.267280\n",
       "595    1.511765\n",
       "596   -1.383916\n",
       "597   -0.895210\n",
       "598   -0.993237\n",
       "599   -0.066083\n",
       "Name: income, Length: 600, dtype: float64"
      ]
     },
     "execution_count": 84,
     "metadata": {},
     "output_type": "execute_result"
    }
   ],
   "source": [
    "income_min=table[\"income\"].mean()\n",
    "income_std=table[\"income\"].std()\n",
    "print \"z-score normalization for income\"\n",
    "(table[\"income\"]-income_min)/income_std"
   ]
  },
  {
   "cell_type": "markdown",
   "metadata": {},
   "source": [
    "### 4.Discretize the age attribute into 3 categories (corresponding to \"young\", \"mid-age\", and \"old\"). [Without changing the original age attribute in the table.]"
   ]
  },
  {
   "cell_type": "code",
   "execution_count": 85,
   "metadata": {},
   "outputs": [
    {
     "data": {
      "text/plain": [
       "0    mid-age\n",
       "1    mid-age\n",
       "2        old\n",
       "3      young\n",
       "4        old\n",
       "Name: age, dtype: category\n",
       "Categories (3, object): [young < mid-age < old]"
      ]
     },
     "execution_count": 85,
     "metadata": {},
     "output_type": "execute_result"
    }
   ],
   "source": [
    "age=pd.qcut(table[\"age\"],3,(\"young\",\"mid-age\",\"old\"))\n",
    "age.head()"
   ]
  },
  {
   "cell_type": "markdown",
   "metadata": {},
   "source": [
    "### 5.Use Min-Max Normalization to transform the values of all numeric attributes  (income, age, children) in the original table (before the transforamtions in parts 3 and 4 above) onto the range 0.0-1.0."
   ]
  },
  {
   "cell_type": "code",
   "execution_count": 41,
   "metadata": {},
   "outputs": [
    {
     "data": {
      "text/html": [
       "<div>\n",
       "<style scoped>\n",
       "    .dataframe tbody tr th:only-of-type {\n",
       "        vertical-align: middle;\n",
       "    }\n",
       "\n",
       "    .dataframe tbody tr th {\n",
       "        vertical-align: top;\n",
       "    }\n",
       "\n",
       "    .dataframe thead th {\n",
       "        text-align: right;\n",
       "    }\n",
       "</style>\n",
       "<table border=\"1\" class=\"dataframe\">\n",
       "  <thead>\n",
       "    <tr style=\"text-align: right;\">\n",
       "      <th></th>\n",
       "      <th>mTran_income</th>\n",
       "      <th>mTran_age</th>\n",
       "      <th>mTran_chi</th>\n",
       "      <th>gender</th>\n",
       "      <th>region</th>\n",
       "      <th>married</th>\n",
       "      <th>car</th>\n",
       "      <th>savings_acct</th>\n",
       "      <th>current_acct</th>\n",
       "      <th>mortgage</th>\n",
       "      <th>pep</th>\n",
       "    </tr>\n",
       "  </thead>\n",
       "  <tbody>\n",
       "    <tr>\n",
       "      <th>0</th>\n",
       "      <td>0.215634</td>\n",
       "      <td>0.612245</td>\n",
       "      <td>0.333333</td>\n",
       "      <td>FEMALE</td>\n",
       "      <td>INNER_CITY</td>\n",
       "      <td>NO</td>\n",
       "      <td>NO</td>\n",
       "      <td>NO</td>\n",
       "      <td>NO</td>\n",
       "      <td>NO</td>\n",
       "      <td>YES</td>\n",
       "    </tr>\n",
       "    <tr>\n",
       "      <th>1</th>\n",
       "      <td>0.431395</td>\n",
       "      <td>0.448980</td>\n",
       "      <td>1.000000</td>\n",
       "      <td>MALE</td>\n",
       "      <td>TOWN</td>\n",
       "      <td>YES</td>\n",
       "      <td>YES</td>\n",
       "      <td>NO</td>\n",
       "      <td>YES</td>\n",
       "      <td>YES</td>\n",
       "      <td>NO</td>\n",
       "    </tr>\n",
       "    <tr>\n",
       "      <th>2</th>\n",
       "      <td>0.198933</td>\n",
       "      <td>0.673469</td>\n",
       "      <td>0.000000</td>\n",
       "      <td>FEMALE</td>\n",
       "      <td>INNER_CITY</td>\n",
       "      <td>YES</td>\n",
       "      <td>YES</td>\n",
       "      <td>YES</td>\n",
       "      <td>YES</td>\n",
       "      <td>NO</td>\n",
       "      <td>NO</td>\n",
       "    </tr>\n",
       "    <tr>\n",
       "      <th>3</th>\n",
       "      <td>0.264320</td>\n",
       "      <td>0.102041</td>\n",
       "      <td>1.000000</td>\n",
       "      <td>FEMALE</td>\n",
       "      <td>TOWN</td>\n",
       "      <td>YES</td>\n",
       "      <td>NO</td>\n",
       "      <td>NO</td>\n",
       "      <td>YES</td>\n",
       "      <td>NO</td>\n",
       "      <td>NO</td>\n",
       "    </tr>\n",
       "    <tr>\n",
       "      <th>4</th>\n",
       "      <td>0.783987</td>\n",
       "      <td>0.795918</td>\n",
       "      <td>0.000000</td>\n",
       "      <td>FEMALE</td>\n",
       "      <td>RURAL</td>\n",
       "      <td>YES</td>\n",
       "      <td>NO</td>\n",
       "      <td>YES</td>\n",
       "      <td>NO</td>\n",
       "      <td>NO</td>\n",
       "      <td>NO</td>\n",
       "    </tr>\n",
       "  </tbody>\n",
       "</table>\n",
       "</div>"
      ],
      "text/plain": [
       "   mTran_income  mTran_age  mTran_chi  gender      region married  car  \\\n",
       "0      0.215634   0.612245   0.333333  FEMALE  INNER_CITY      NO   NO   \n",
       "1      0.431395   0.448980   1.000000    MALE        TOWN     YES  YES   \n",
       "2      0.198933   0.673469   0.000000  FEMALE  INNER_CITY     YES  YES   \n",
       "3      0.264320   0.102041   1.000000  FEMALE        TOWN     YES   NO   \n",
       "4      0.783987   0.795918   0.000000  FEMALE       RURAL     YES   NO   \n",
       "\n",
       "  savings_acct current_acct mortgage  pep  \n",
       "0           NO           NO       NO  YES  \n",
       "1           NO          YES      YES   NO  \n",
       "2          YES          YES       NO   NO  \n",
       "3           NO          YES       NO   NO  \n",
       "4          YES           NO       NO   NO  "
      ]
     },
     "execution_count": 41,
     "metadata": {},
     "output_type": "execute_result"
    }
   ],
   "source": [
    "mTran_income=(table[\"income\"]-table[\"income\"].min()) / (table[\"income\"].max()-table[\"income\"].min())\n",
    "mTran_age=(table[\"age\"]-table[\"age\"].min()) / (table[\"age\"].max()-table[\"age\"].min())\n",
    "mTran_chi=(table[\"children\"]-table[\"children\"].min()) / (table[\"children\"].max()-table[\"children\"].min())\n",
    "table[\"mTran_income\"]=mTran_income\n",
    "table[\"mTran_age\"]=mTran_age \n",
    "table[\"mTran_chi\"]=mTran_chi\n",
    "stdtable=table[[\"mTran_income\",\"mTran_age\",\"mTran_chi\",\"gender\",\"region\",\"married\",\"car\",\"savings_acct\",\"current_acct\",\"mortgage\",\"pep\"]]\n",
    "stdtable.head()"
   ]
  },
  {
   "cell_type": "markdown",
   "metadata": {},
   "source": [
    "### 6.Convert the table  into the standard spreadsheet format. \n",
    "Note that this requires converting each categorical attribute into dummy attributes (one for each values of the categorical attribute) and assigning binary values corresponding to the presence or not presence of the attribute value in the original record). The numeric attributes  remains unchanged. "
   ]
  },
  {
   "cell_type": "code",
   "execution_count": 194,
   "metadata": {
    "collapsed": true,
    "scrolled": true
   },
   "outputs": [],
   "source": [
    "stdtable=pd.get_dummies(stdtable)\n",
    "#stdtable.to_csv(\"bank_numeric.csv\")"
   ]
  },
  {
   "cell_type": "markdown",
   "metadata": {},
   "source": [
    "### 7.Using the standardized data set perform basic correlation analysis among the attributes.  \n",
    "(The Customer ID column is removed before creating the correlation matrix)"
   ]
  },
  {
   "cell_type": "code",
   "execution_count": 43,
   "metadata": {
    "scrolled": true
   },
   "outputs": [
    {
     "data": {
      "text/html": [
       "<div>\n",
       "<style scoped>\n",
       "    .dataframe tbody tr th:only-of-type {\n",
       "        vertical-align: middle;\n",
       "    }\n",
       "\n",
       "    .dataframe tbody tr th {\n",
       "        vertical-align: top;\n",
       "    }\n",
       "\n",
       "    .dataframe thead th {\n",
       "        text-align: right;\n",
       "    }\n",
       "</style>\n",
       "<table border=\"1\" class=\"dataframe\">\n",
       "  <thead>\n",
       "    <tr style=\"text-align: right;\">\n",
       "      <th></th>\n",
       "      <th>mTran_income</th>\n",
       "      <th>mTran_age</th>\n",
       "      <th>mTran_chi</th>\n",
       "      <th>gender_FEMALE</th>\n",
       "      <th>gender_MALE</th>\n",
       "      <th>region_INNER_CITY</th>\n",
       "      <th>region_RURAL</th>\n",
       "      <th>region_SUBURBAN</th>\n",
       "      <th>region_TOWN</th>\n",
       "      <th>married_NO</th>\n",
       "      <th>...</th>\n",
       "      <th>car_NO</th>\n",
       "      <th>car_YES</th>\n",
       "      <th>savings_acct_NO</th>\n",
       "      <th>savings_acct_YES</th>\n",
       "      <th>current_acct_NO</th>\n",
       "      <th>current_acct_YES</th>\n",
       "      <th>mortgage_NO</th>\n",
       "      <th>mortgage_YES</th>\n",
       "      <th>pep_NO</th>\n",
       "      <th>pep_YES</th>\n",
       "    </tr>\n",
       "  </thead>\n",
       "  <tbody>\n",
       "    <tr>\n",
       "      <th>mTran_income</th>\n",
       "      <td>1.000000</td>\n",
       "      <td>0.752726</td>\n",
       "      <td>0.036761</td>\n",
       "      <td>0.023845</td>\n",
       "      <td>-0.023845</td>\n",
       "      <td>-0.047564</td>\n",
       "      <td>0.084776</td>\n",
       "      <td>0.029824</td>\n",
       "      <td>-0.036431</td>\n",
       "      <td>0.008386</td>\n",
       "      <td>...</td>\n",
       "      <td>-0.081556</td>\n",
       "      <td>0.081556</td>\n",
       "      <td>-0.266164</td>\n",
       "      <td>0.266164</td>\n",
       "      <td>-0.031616</td>\n",
       "      <td>0.031616</td>\n",
       "      <td>0.014662</td>\n",
       "      <td>-0.014662</td>\n",
       "      <td>-0.221991</td>\n",
       "      <td>0.221991</td>\n",
       "    </tr>\n",
       "    <tr>\n",
       "      <th>mTran_age</th>\n",
       "      <td>0.752726</td>\n",
       "      <td>1.000000</td>\n",
       "      <td>0.023572</td>\n",
       "      <td>0.090081</td>\n",
       "      <td>-0.090081</td>\n",
       "      <td>-0.025171</td>\n",
       "      <td>0.018635</td>\n",
       "      <td>0.031345</td>\n",
       "      <td>-0.008510</td>\n",
       "      <td>-0.010394</td>\n",
       "      <td>...</td>\n",
       "      <td>-0.077733</td>\n",
       "      <td>0.077733</td>\n",
       "      <td>-0.184389</td>\n",
       "      <td>0.184389</td>\n",
       "      <td>0.035312</td>\n",
       "      <td>-0.035312</td>\n",
       "      <td>0.016154</td>\n",
       "      <td>-0.016154</td>\n",
       "      <td>-0.173825</td>\n",
       "      <td>0.173825</td>\n",
       "    </tr>\n",
       "    <tr>\n",
       "      <th>mTran_chi</th>\n",
       "      <td>0.036761</td>\n",
       "      <td>0.023572</td>\n",
       "      <td>1.000000</td>\n",
       "      <td>0.014206</td>\n",
       "      <td>-0.014206</td>\n",
       "      <td>-0.051222</td>\n",
       "      <td>0.089902</td>\n",
       "      <td>-0.014122</td>\n",
       "      <td>-0.007033</td>\n",
       "      <td>0.048716</td>\n",
       "      <td>...</td>\n",
       "      <td>-0.036455</td>\n",
       "      <td>0.036455</td>\n",
       "      <td>-0.041536</td>\n",
       "      <td>0.041536</td>\n",
       "      <td>-0.006238</td>\n",
       "      <td>0.006238</td>\n",
       "      <td>0.074339</td>\n",
       "      <td>-0.074339</td>\n",
       "      <td>0.057663</td>\n",
       "      <td>-0.057663</td>\n",
       "    </tr>\n",
       "    <tr>\n",
       "      <th>gender_FEMALE</th>\n",
       "      <td>0.023845</td>\n",
       "      <td>0.090081</td>\n",
       "      <td>0.014206</td>\n",
       "      <td>1.000000</td>\n",
       "      <td>-1.000000</td>\n",
       "      <td>-0.023459</td>\n",
       "      <td>-0.009092</td>\n",
       "      <td>-0.010951</td>\n",
       "      <td>0.040472</td>\n",
       "      <td>0.021110</td>\n",
       "      <td>...</td>\n",
       "      <td>0.006667</td>\n",
       "      <td>-0.006667</td>\n",
       "      <td>0.007207</td>\n",
       "      <td>-0.007207</td>\n",
       "      <td>-0.019466</td>\n",
       "      <td>0.019466</td>\n",
       "      <td>0.066465</td>\n",
       "      <td>-0.066465</td>\n",
       "      <td>0.046843</td>\n",
       "      <td>-0.046843</td>\n",
       "    </tr>\n",
       "    <tr>\n",
       "      <th>gender_MALE</th>\n",
       "      <td>-0.023845</td>\n",
       "      <td>-0.090081</td>\n",
       "      <td>-0.014206</td>\n",
       "      <td>-1.000000</td>\n",
       "      <td>1.000000</td>\n",
       "      <td>0.023459</td>\n",
       "      <td>0.009092</td>\n",
       "      <td>0.010951</td>\n",
       "      <td>-0.040472</td>\n",
       "      <td>-0.021110</td>\n",
       "      <td>...</td>\n",
       "      <td>-0.006667</td>\n",
       "      <td>0.006667</td>\n",
       "      <td>-0.007207</td>\n",
       "      <td>0.007207</td>\n",
       "      <td>0.019466</td>\n",
       "      <td>-0.019466</td>\n",
       "      <td>-0.066465</td>\n",
       "      <td>0.066465</td>\n",
       "      <td>-0.046843</td>\n",
       "      <td>0.046843</td>\n",
       "    </tr>\n",
       "    <tr>\n",
       "      <th>region_INNER_CITY</th>\n",
       "      <td>-0.047564</td>\n",
       "      <td>-0.025171</td>\n",
       "      <td>-0.051222</td>\n",
       "      <td>-0.023459</td>\n",
       "      <td>0.023459</td>\n",
       "      <td>1.000000</td>\n",
       "      <td>-0.393444</td>\n",
       "      <td>-0.306032</td>\n",
       "      <td>-0.573814</td>\n",
       "      <td>-0.003254</td>\n",
       "      <td>...</td>\n",
       "      <td>0.018143</td>\n",
       "      <td>-0.018143</td>\n",
       "      <td>0.091373</td>\n",
       "      <td>-0.091373</td>\n",
       "      <td>-0.007894</td>\n",
       "      <td>0.007894</td>\n",
       "      <td>-0.002098</td>\n",
       "      <td>0.002098</td>\n",
       "      <td>-0.001054</td>\n",
       "      <td>0.001054</td>\n",
       "    </tr>\n",
       "    <tr>\n",
       "      <th>region_RURAL</th>\n",
       "      <td>0.084776</td>\n",
       "      <td>0.018635</td>\n",
       "      <td>0.089902</td>\n",
       "      <td>-0.009092</td>\n",
       "      <td>0.009092</td>\n",
       "      <td>-0.393444</td>\n",
       "      <td>1.000000</td>\n",
       "      <td>-0.148158</td>\n",
       "      <td>-0.277798</td>\n",
       "      <td>0.022649</td>\n",
       "      <td>...</td>\n",
       "      <td>-0.024006</td>\n",
       "      <td>0.024006</td>\n",
       "      <td>-0.036960</td>\n",
       "      <td>0.036960</td>\n",
       "      <td>0.008496</td>\n",
       "      <td>-0.008496</td>\n",
       "      <td>0.051908</td>\n",
       "      <td>-0.051908</td>\n",
       "      <td>-0.019714</td>\n",
       "      <td>0.019714</td>\n",
       "    </tr>\n",
       "    <tr>\n",
       "      <th>region_SUBURBAN</th>\n",
       "      <td>0.029824</td>\n",
       "      <td>0.031345</td>\n",
       "      <td>-0.014122</td>\n",
       "      <td>-0.010951</td>\n",
       "      <td>0.010951</td>\n",
       "      <td>-0.306032</td>\n",
       "      <td>-0.148158</td>\n",
       "      <td>1.000000</td>\n",
       "      <td>-0.216080</td>\n",
       "      <td>-0.012483</td>\n",
       "      <td>...</td>\n",
       "      <td>0.061184</td>\n",
       "      <td>-0.061184</td>\n",
       "      <td>-0.002605</td>\n",
       "      <td>0.002605</td>\n",
       "      <td>-0.038157</td>\n",
       "      <td>0.038157</td>\n",
       "      <td>-0.004635</td>\n",
       "      <td>0.004635</td>\n",
       "      <td>-0.062508</td>\n",
       "      <td>0.062508</td>\n",
       "    </tr>\n",
       "    <tr>\n",
       "      <th>region_TOWN</th>\n",
       "      <td>-0.036431</td>\n",
       "      <td>-0.008510</td>\n",
       "      <td>-0.007033</td>\n",
       "      <td>0.040472</td>\n",
       "      <td>-0.040472</td>\n",
       "      <td>-0.573814</td>\n",
       "      <td>-0.277798</td>\n",
       "      <td>-0.216080</td>\n",
       "      <td>1.000000</td>\n",
       "      <td>-0.006369</td>\n",
       "      <td>...</td>\n",
       "      <td>-0.041604</td>\n",
       "      <td>0.041604</td>\n",
       "      <td>-0.068654</td>\n",
       "      <td>0.068654</td>\n",
       "      <td>0.027431</td>\n",
       "      <td>-0.027431</td>\n",
       "      <td>-0.036591</td>\n",
       "      <td>0.036591</td>\n",
       "      <td>0.059115</td>\n",
       "      <td>-0.059115</td>\n",
       "    </tr>\n",
       "    <tr>\n",
       "      <th>married_NO</th>\n",
       "      <td>0.008386</td>\n",
       "      <td>-0.010394</td>\n",
       "      <td>0.048716</td>\n",
       "      <td>0.021110</td>\n",
       "      <td>-0.021110</td>\n",
       "      <td>-0.003254</td>\n",
       "      <td>0.022649</td>\n",
       "      <td>-0.012483</td>\n",
       "      <td>-0.006369</td>\n",
       "      <td>1.000000</td>\n",
       "      <td>...</td>\n",
       "      <td>-0.009571</td>\n",
       "      <td>0.009571</td>\n",
       "      <td>0.028604</td>\n",
       "      <td>-0.028604</td>\n",
       "      <td>-0.059996</td>\n",
       "      <td>0.059996</td>\n",
       "      <td>-0.021711</td>\n",
       "      <td>0.021711</td>\n",
       "      <td>-0.189578</td>\n",
       "      <td>0.189578</td>\n",
       "    </tr>\n",
       "    <tr>\n",
       "      <th>married_YES</th>\n",
       "      <td>-0.008386</td>\n",
       "      <td>0.010394</td>\n",
       "      <td>-0.048716</td>\n",
       "      <td>-0.021110</td>\n",
       "      <td>0.021110</td>\n",
       "      <td>0.003254</td>\n",
       "      <td>-0.022649</td>\n",
       "      <td>0.012483</td>\n",
       "      <td>0.006369</td>\n",
       "      <td>-1.000000</td>\n",
       "      <td>...</td>\n",
       "      <td>0.009571</td>\n",
       "      <td>-0.009571</td>\n",
       "      <td>-0.028604</td>\n",
       "      <td>0.028604</td>\n",
       "      <td>0.059996</td>\n",
       "      <td>-0.059996</td>\n",
       "      <td>0.021711</td>\n",
       "      <td>-0.021711</td>\n",
       "      <td>0.189578</td>\n",
       "      <td>-0.189578</td>\n",
       "    </tr>\n",
       "    <tr>\n",
       "      <th>car_NO</th>\n",
       "      <td>-0.081556</td>\n",
       "      <td>-0.077733</td>\n",
       "      <td>-0.036455</td>\n",
       "      <td>0.006667</td>\n",
       "      <td>-0.006667</td>\n",
       "      <td>0.018143</td>\n",
       "      <td>-0.024006</td>\n",
       "      <td>0.061184</td>\n",
       "      <td>-0.041604</td>\n",
       "      <td>-0.009571</td>\n",
       "      <td>...</td>\n",
       "      <td>1.000000</td>\n",
       "      <td>-1.000000</td>\n",
       "      <td>0.034310</td>\n",
       "      <td>-0.034310</td>\n",
       "      <td>-0.034783</td>\n",
       "      <td>0.034783</td>\n",
       "      <td>-0.007743</td>\n",
       "      <td>0.007743</td>\n",
       "      <td>0.018917</td>\n",
       "      <td>-0.018917</td>\n",
       "    </tr>\n",
       "    <tr>\n",
       "      <th>car_YES</th>\n",
       "      <td>0.081556</td>\n",
       "      <td>0.077733</td>\n",
       "      <td>0.036455</td>\n",
       "      <td>-0.006667</td>\n",
       "      <td>0.006667</td>\n",
       "      <td>-0.018143</td>\n",
       "      <td>0.024006</td>\n",
       "      <td>-0.061184</td>\n",
       "      <td>0.041604</td>\n",
       "      <td>0.009571</td>\n",
       "      <td>...</td>\n",
       "      <td>-1.000000</td>\n",
       "      <td>1.000000</td>\n",
       "      <td>-0.034310</td>\n",
       "      <td>0.034310</td>\n",
       "      <td>0.034783</td>\n",
       "      <td>-0.034783</td>\n",
       "      <td>0.007743</td>\n",
       "      <td>-0.007743</td>\n",
       "      <td>-0.018917</td>\n",
       "      <td>0.018917</td>\n",
       "    </tr>\n",
       "    <tr>\n",
       "      <th>savings_acct_NO</th>\n",
       "      <td>-0.266164</td>\n",
       "      <td>-0.184389</td>\n",
       "      <td>-0.041536</td>\n",
       "      <td>0.007207</td>\n",
       "      <td>-0.007207</td>\n",
       "      <td>0.091373</td>\n",
       "      <td>-0.036960</td>\n",
       "      <td>-0.002605</td>\n",
       "      <td>-0.068654</td>\n",
       "      <td>0.028604</td>\n",
       "      <td>...</td>\n",
       "      <td>0.034310</td>\n",
       "      <td>-0.034310</td>\n",
       "      <td>1.000000</td>\n",
       "      <td>-1.000000</td>\n",
       "      <td>0.042511</td>\n",
       "      <td>-0.042511</td>\n",
       "      <td>-0.001588</td>\n",
       "      <td>0.001588</td>\n",
       "      <td>-0.072779</td>\n",
       "      <td>0.072779</td>\n",
       "    </tr>\n",
       "    <tr>\n",
       "      <th>savings_acct_YES</th>\n",
       "      <td>0.266164</td>\n",
       "      <td>0.184389</td>\n",
       "      <td>0.041536</td>\n",
       "      <td>-0.007207</td>\n",
       "      <td>0.007207</td>\n",
       "      <td>-0.091373</td>\n",
       "      <td>0.036960</td>\n",
       "      <td>0.002605</td>\n",
       "      <td>0.068654</td>\n",
       "      <td>-0.028604</td>\n",
       "      <td>...</td>\n",
       "      <td>-0.034310</td>\n",
       "      <td>0.034310</td>\n",
       "      <td>-1.000000</td>\n",
       "      <td>1.000000</td>\n",
       "      <td>-0.042511</td>\n",
       "      <td>0.042511</td>\n",
       "      <td>0.001588</td>\n",
       "      <td>-0.001588</td>\n",
       "      <td>0.072779</td>\n",
       "      <td>-0.072779</td>\n",
       "    </tr>\n",
       "    <tr>\n",
       "      <th>current_acct_NO</th>\n",
       "      <td>-0.031616</td>\n",
       "      <td>0.035312</td>\n",
       "      <td>-0.006238</td>\n",
       "      <td>-0.019466</td>\n",
       "      <td>0.019466</td>\n",
       "      <td>-0.007894</td>\n",
       "      <td>0.008496</td>\n",
       "      <td>-0.038157</td>\n",
       "      <td>0.027431</td>\n",
       "      <td>-0.059996</td>\n",
       "      <td>...</td>\n",
       "      <td>-0.034783</td>\n",
       "      <td>0.034783</td>\n",
       "      <td>0.042511</td>\n",
       "      <td>-0.042511</td>\n",
       "      <td>1.000000</td>\n",
       "      <td>-1.000000</td>\n",
       "      <td>-0.036704</td>\n",
       "      <td>0.036704</td>\n",
       "      <td>0.025141</td>\n",
       "      <td>-0.025141</td>\n",
       "    </tr>\n",
       "    <tr>\n",
       "      <th>current_acct_YES</th>\n",
       "      <td>0.031616</td>\n",
       "      <td>-0.035312</td>\n",
       "      <td>0.006238</td>\n",
       "      <td>0.019466</td>\n",
       "      <td>-0.019466</td>\n",
       "      <td>0.007894</td>\n",
       "      <td>-0.008496</td>\n",
       "      <td>0.038157</td>\n",
       "      <td>-0.027431</td>\n",
       "      <td>0.059996</td>\n",
       "      <td>...</td>\n",
       "      <td>0.034783</td>\n",
       "      <td>-0.034783</td>\n",
       "      <td>-0.042511</td>\n",
       "      <td>0.042511</td>\n",
       "      <td>-1.000000</td>\n",
       "      <td>1.000000</td>\n",
       "      <td>0.036704</td>\n",
       "      <td>-0.036704</td>\n",
       "      <td>-0.025141</td>\n",
       "      <td>0.025141</td>\n",
       "    </tr>\n",
       "    <tr>\n",
       "      <th>mortgage_NO</th>\n",
       "      <td>0.014662</td>\n",
       "      <td>0.016154</td>\n",
       "      <td>0.074339</td>\n",
       "      <td>0.066465</td>\n",
       "      <td>-0.066465</td>\n",
       "      <td>-0.002098</td>\n",
       "      <td>0.051908</td>\n",
       "      <td>-0.004635</td>\n",
       "      <td>-0.036591</td>\n",
       "      <td>-0.021711</td>\n",
       "      <td>...</td>\n",
       "      <td>-0.007743</td>\n",
       "      <td>0.007743</td>\n",
       "      <td>-0.001588</td>\n",
       "      <td>0.001588</td>\n",
       "      <td>-0.036704</td>\n",
       "      <td>0.036704</td>\n",
       "      <td>1.000000</td>\n",
       "      <td>-1.000000</td>\n",
       "      <td>-0.024182</td>\n",
       "      <td>0.024182</td>\n",
       "    </tr>\n",
       "    <tr>\n",
       "      <th>mortgage_YES</th>\n",
       "      <td>-0.014662</td>\n",
       "      <td>-0.016154</td>\n",
       "      <td>-0.074339</td>\n",
       "      <td>-0.066465</td>\n",
       "      <td>0.066465</td>\n",
       "      <td>0.002098</td>\n",
       "      <td>-0.051908</td>\n",
       "      <td>0.004635</td>\n",
       "      <td>0.036591</td>\n",
       "      <td>0.021711</td>\n",
       "      <td>...</td>\n",
       "      <td>0.007743</td>\n",
       "      <td>-0.007743</td>\n",
       "      <td>0.001588</td>\n",
       "      <td>-0.001588</td>\n",
       "      <td>0.036704</td>\n",
       "      <td>-0.036704</td>\n",
       "      <td>-1.000000</td>\n",
       "      <td>1.000000</td>\n",
       "      <td>0.024182</td>\n",
       "      <td>-0.024182</td>\n",
       "    </tr>\n",
       "    <tr>\n",
       "      <th>pep_NO</th>\n",
       "      <td>-0.221991</td>\n",
       "      <td>-0.173825</td>\n",
       "      <td>0.057663</td>\n",
       "      <td>0.046843</td>\n",
       "      <td>-0.046843</td>\n",
       "      <td>-0.001054</td>\n",
       "      <td>-0.019714</td>\n",
       "      <td>-0.062508</td>\n",
       "      <td>0.059115</td>\n",
       "      <td>-0.189578</td>\n",
       "      <td>...</td>\n",
       "      <td>0.018917</td>\n",
       "      <td>-0.018917</td>\n",
       "      <td>-0.072779</td>\n",
       "      <td>0.072779</td>\n",
       "      <td>0.025141</td>\n",
       "      <td>-0.025141</td>\n",
       "      <td>-0.024182</td>\n",
       "      <td>0.024182</td>\n",
       "      <td>1.000000</td>\n",
       "      <td>-1.000000</td>\n",
       "    </tr>\n",
       "    <tr>\n",
       "      <th>pep_YES</th>\n",
       "      <td>0.221991</td>\n",
       "      <td>0.173825</td>\n",
       "      <td>-0.057663</td>\n",
       "      <td>-0.046843</td>\n",
       "      <td>0.046843</td>\n",
       "      <td>0.001054</td>\n",
       "      <td>0.019714</td>\n",
       "      <td>0.062508</td>\n",
       "      <td>-0.059115</td>\n",
       "      <td>0.189578</td>\n",
       "      <td>...</td>\n",
       "      <td>-0.018917</td>\n",
       "      <td>0.018917</td>\n",
       "      <td>0.072779</td>\n",
       "      <td>-0.072779</td>\n",
       "      <td>-0.025141</td>\n",
       "      <td>0.025141</td>\n",
       "      <td>0.024182</td>\n",
       "      <td>-0.024182</td>\n",
       "      <td>-1.000000</td>\n",
       "      <td>1.000000</td>\n",
       "    </tr>\n",
       "  </tbody>\n",
       "</table>\n",
       "<p>21 rows × 21 columns</p>\n",
       "</div>"
      ],
      "text/plain": [
       "                   mTran_income  mTran_age  mTran_chi  gender_FEMALE  \\\n",
       "mTran_income           1.000000   0.752726   0.036761       0.023845   \n",
       "mTran_age              0.752726   1.000000   0.023572       0.090081   \n",
       "mTran_chi              0.036761   0.023572   1.000000       0.014206   \n",
       "gender_FEMALE          0.023845   0.090081   0.014206       1.000000   \n",
       "gender_MALE           -0.023845  -0.090081  -0.014206      -1.000000   \n",
       "region_INNER_CITY     -0.047564  -0.025171  -0.051222      -0.023459   \n",
       "region_RURAL           0.084776   0.018635   0.089902      -0.009092   \n",
       "region_SUBURBAN        0.029824   0.031345  -0.014122      -0.010951   \n",
       "region_TOWN           -0.036431  -0.008510  -0.007033       0.040472   \n",
       "married_NO             0.008386  -0.010394   0.048716       0.021110   \n",
       "married_YES           -0.008386   0.010394  -0.048716      -0.021110   \n",
       "car_NO                -0.081556  -0.077733  -0.036455       0.006667   \n",
       "car_YES                0.081556   0.077733   0.036455      -0.006667   \n",
       "savings_acct_NO       -0.266164  -0.184389  -0.041536       0.007207   \n",
       "savings_acct_YES       0.266164   0.184389   0.041536      -0.007207   \n",
       "current_acct_NO       -0.031616   0.035312  -0.006238      -0.019466   \n",
       "current_acct_YES       0.031616  -0.035312   0.006238       0.019466   \n",
       "mortgage_NO            0.014662   0.016154   0.074339       0.066465   \n",
       "mortgage_YES          -0.014662  -0.016154  -0.074339      -0.066465   \n",
       "pep_NO                -0.221991  -0.173825   0.057663       0.046843   \n",
       "pep_YES                0.221991   0.173825  -0.057663      -0.046843   \n",
       "\n",
       "                   gender_MALE  region_INNER_CITY  region_RURAL  \\\n",
       "mTran_income         -0.023845          -0.047564      0.084776   \n",
       "mTran_age            -0.090081          -0.025171      0.018635   \n",
       "mTran_chi            -0.014206          -0.051222      0.089902   \n",
       "gender_FEMALE        -1.000000          -0.023459     -0.009092   \n",
       "gender_MALE           1.000000           0.023459      0.009092   \n",
       "region_INNER_CITY     0.023459           1.000000     -0.393444   \n",
       "region_RURAL          0.009092          -0.393444      1.000000   \n",
       "region_SUBURBAN       0.010951          -0.306032     -0.148158   \n",
       "region_TOWN          -0.040472          -0.573814     -0.277798   \n",
       "married_NO           -0.021110          -0.003254      0.022649   \n",
       "married_YES           0.021110           0.003254     -0.022649   \n",
       "car_NO               -0.006667           0.018143     -0.024006   \n",
       "car_YES               0.006667          -0.018143      0.024006   \n",
       "savings_acct_NO      -0.007207           0.091373     -0.036960   \n",
       "savings_acct_YES      0.007207          -0.091373      0.036960   \n",
       "current_acct_NO       0.019466          -0.007894      0.008496   \n",
       "current_acct_YES     -0.019466           0.007894     -0.008496   \n",
       "mortgage_NO          -0.066465          -0.002098      0.051908   \n",
       "mortgage_YES          0.066465           0.002098     -0.051908   \n",
       "pep_NO               -0.046843          -0.001054     -0.019714   \n",
       "pep_YES               0.046843           0.001054      0.019714   \n",
       "\n",
       "                   region_SUBURBAN  region_TOWN  married_NO    ...     \\\n",
       "mTran_income              0.029824    -0.036431    0.008386    ...      \n",
       "mTran_age                 0.031345    -0.008510   -0.010394    ...      \n",
       "mTran_chi                -0.014122    -0.007033    0.048716    ...      \n",
       "gender_FEMALE            -0.010951     0.040472    0.021110    ...      \n",
       "gender_MALE               0.010951    -0.040472   -0.021110    ...      \n",
       "region_INNER_CITY        -0.306032    -0.573814   -0.003254    ...      \n",
       "region_RURAL             -0.148158    -0.277798    0.022649    ...      \n",
       "region_SUBURBAN           1.000000    -0.216080   -0.012483    ...      \n",
       "region_TOWN              -0.216080     1.000000   -0.006369    ...      \n",
       "married_NO               -0.012483    -0.006369    1.000000    ...      \n",
       "married_YES               0.012483     0.006369   -1.000000    ...      \n",
       "car_NO                    0.061184    -0.041604   -0.009571    ...      \n",
       "car_YES                  -0.061184     0.041604    0.009571    ...      \n",
       "savings_acct_NO          -0.002605    -0.068654    0.028604    ...      \n",
       "savings_acct_YES          0.002605     0.068654   -0.028604    ...      \n",
       "current_acct_NO          -0.038157     0.027431   -0.059996    ...      \n",
       "current_acct_YES          0.038157    -0.027431    0.059996    ...      \n",
       "mortgage_NO              -0.004635    -0.036591   -0.021711    ...      \n",
       "mortgage_YES              0.004635     0.036591    0.021711    ...      \n",
       "pep_NO                   -0.062508     0.059115   -0.189578    ...      \n",
       "pep_YES                   0.062508    -0.059115    0.189578    ...      \n",
       "\n",
       "                     car_NO   car_YES  savings_acct_NO  savings_acct_YES  \\\n",
       "mTran_income      -0.081556  0.081556        -0.266164          0.266164   \n",
       "mTran_age         -0.077733  0.077733        -0.184389          0.184389   \n",
       "mTran_chi         -0.036455  0.036455        -0.041536          0.041536   \n",
       "gender_FEMALE      0.006667 -0.006667         0.007207         -0.007207   \n",
       "gender_MALE       -0.006667  0.006667        -0.007207          0.007207   \n",
       "region_INNER_CITY  0.018143 -0.018143         0.091373         -0.091373   \n",
       "region_RURAL      -0.024006  0.024006        -0.036960          0.036960   \n",
       "region_SUBURBAN    0.061184 -0.061184        -0.002605          0.002605   \n",
       "region_TOWN       -0.041604  0.041604        -0.068654          0.068654   \n",
       "married_NO        -0.009571  0.009571         0.028604         -0.028604   \n",
       "married_YES        0.009571 -0.009571        -0.028604          0.028604   \n",
       "car_NO             1.000000 -1.000000         0.034310         -0.034310   \n",
       "car_YES           -1.000000  1.000000        -0.034310          0.034310   \n",
       "savings_acct_NO    0.034310 -0.034310         1.000000         -1.000000   \n",
       "savings_acct_YES  -0.034310  0.034310        -1.000000          1.000000   \n",
       "current_acct_NO   -0.034783  0.034783         0.042511         -0.042511   \n",
       "current_acct_YES   0.034783 -0.034783        -0.042511          0.042511   \n",
       "mortgage_NO       -0.007743  0.007743        -0.001588          0.001588   \n",
       "mortgage_YES       0.007743 -0.007743         0.001588         -0.001588   \n",
       "pep_NO             0.018917 -0.018917        -0.072779          0.072779   \n",
       "pep_YES           -0.018917  0.018917         0.072779         -0.072779   \n",
       "\n",
       "                   current_acct_NO  current_acct_YES  mortgage_NO  \\\n",
       "mTran_income             -0.031616          0.031616     0.014662   \n",
       "mTran_age                 0.035312         -0.035312     0.016154   \n",
       "mTran_chi                -0.006238          0.006238     0.074339   \n",
       "gender_FEMALE            -0.019466          0.019466     0.066465   \n",
       "gender_MALE               0.019466         -0.019466    -0.066465   \n",
       "region_INNER_CITY        -0.007894          0.007894    -0.002098   \n",
       "region_RURAL              0.008496         -0.008496     0.051908   \n",
       "region_SUBURBAN          -0.038157          0.038157    -0.004635   \n",
       "region_TOWN               0.027431         -0.027431    -0.036591   \n",
       "married_NO               -0.059996          0.059996    -0.021711   \n",
       "married_YES               0.059996         -0.059996     0.021711   \n",
       "car_NO                   -0.034783          0.034783    -0.007743   \n",
       "car_YES                   0.034783         -0.034783     0.007743   \n",
       "savings_acct_NO           0.042511         -0.042511    -0.001588   \n",
       "savings_acct_YES         -0.042511          0.042511     0.001588   \n",
       "current_acct_NO           1.000000         -1.000000    -0.036704   \n",
       "current_acct_YES         -1.000000          1.000000     0.036704   \n",
       "mortgage_NO              -0.036704          0.036704     1.000000   \n",
       "mortgage_YES              0.036704         -0.036704    -1.000000   \n",
       "pep_NO                    0.025141         -0.025141    -0.024182   \n",
       "pep_YES                  -0.025141          0.025141     0.024182   \n",
       "\n",
       "                   mortgage_YES    pep_NO   pep_YES  \n",
       "mTran_income          -0.014662 -0.221991  0.221991  \n",
       "mTran_age             -0.016154 -0.173825  0.173825  \n",
       "mTran_chi             -0.074339  0.057663 -0.057663  \n",
       "gender_FEMALE         -0.066465  0.046843 -0.046843  \n",
       "gender_MALE            0.066465 -0.046843  0.046843  \n",
       "region_INNER_CITY      0.002098 -0.001054  0.001054  \n",
       "region_RURAL          -0.051908 -0.019714  0.019714  \n",
       "region_SUBURBAN        0.004635 -0.062508  0.062508  \n",
       "region_TOWN            0.036591  0.059115 -0.059115  \n",
       "married_NO             0.021711 -0.189578  0.189578  \n",
       "married_YES           -0.021711  0.189578 -0.189578  \n",
       "car_NO                 0.007743  0.018917 -0.018917  \n",
       "car_YES               -0.007743 -0.018917  0.018917  \n",
       "savings_acct_NO        0.001588 -0.072779  0.072779  \n",
       "savings_acct_YES      -0.001588  0.072779 -0.072779  \n",
       "current_acct_NO        0.036704  0.025141 -0.025141  \n",
       "current_acct_YES      -0.036704 -0.025141  0.025141  \n",
       "mortgage_NO           -1.000000 -0.024182  0.024182  \n",
       "mortgage_YES           1.000000  0.024182 -0.024182  \n",
       "pep_NO                 0.024182  1.000000 -1.000000  \n",
       "pep_YES               -0.024182 -1.000000  1.000000  \n",
       "\n",
       "[21 rows x 21 columns]"
      ]
     },
     "execution_count": 43,
     "metadata": {},
     "output_type": "execute_result"
    }
   ],
   "source": [
    "stdtable.corr()"
   ]
  },
  {
   "cell_type": "markdown",
   "metadata": {},
   "source": [
    "##### According to the correlation analysis table above, age and income seems to have positive high correlation; gender_female and gender_male also have negative strong correlation; region_town and region_inner_city have negative mild correlation\n"
   ]
  },
  {
   "cell_type": "markdown",
   "metadata": {},
   "source": [
    "### 8.Create a scatter plot of the (non-normalized) Income attribute relative to Age."
   ]
  },
  {
   "cell_type": "code",
   "execution_count": 92,
   "metadata": {},
   "outputs": [
    {
     "data": {
      "text/plain": [
       "<matplotlib.axes._subplots.AxesSubplot at 0xe56d5f8>"
      ]
     },
     "execution_count": 92,
     "metadata": {},
     "output_type": "execute_result"
    },
    {
     "data": {
      "image/png": "[encoded data removed]",
      "text/plain": [
       "<Figure size 432x288 with 1 Axes>"
      ]
     },
     "metadata": {},
     "output_type": "display_data"
    }
   ],
   "source": [
    "table.plot(x=\"income\",y=\"age\",kind=\"scatter\")"
   ]
  },
  {
   "cell_type": "markdown",
   "metadata": {},
   "source": [
    "##### age and income(non-standardized variable) seems to have a positive linear relationship.\n",
    "-------------------------------------------------------------------------------------------------------------------"
   ]
  },
  {
   "cell_type": "markdown",
   "metadata": {},
   "source": [
    "### 9.Create histograms for (non-normalized) Income (using 9 bins) and Age (using 15 bins)."
   ]
  },
  {
   "cell_type": "code",
   "execution_count": 98,
   "metadata": {},
   "outputs": [
    {
     "name": "stdout",
     "output_type": "stream",
     "text": [
      "                Histogram for income\n"
     ]
    },
    {
     "data": {
      "text/plain": [
       "<matplotlib.axes._subplots.AxesSubplot at 0xe506d30>"
      ]
     },
     "execution_count": 98,
     "metadata": {},
     "output_type": "execute_result"
    },
    {
     "data": {
      "image/png": "[encoded data removed]",
      "text/plain": [
       "<Figure size 432x288 with 1 Axes>"
      ]
     },
     "metadata": {},
     "output_type": "display_data"
    }
   ],
   "source": [
    "print\"                Histogram for income\"\n",
    "table[\"income\"].plot(kind=\"hist\",bins=9)"
   ]
  },
  {
   "cell_type": "code",
   "execution_count": 112,
   "metadata": {},
   "outputs": [
    {
     "name": "stdout",
     "output_type": "stream",
     "text": [
      "                Histogram for age\n"
     ]
    },
    {
     "data": {
      "text/plain": [
       "<matplotlib.axes._subplots.AxesSubplot at 0x1102dc18>"
      ]
     },
     "execution_count": 112,
     "metadata": {},
     "output_type": "execute_result"
    },
    {
     "data": {
      "image/png": "[encoded data removed]",
      "text/plain": [
       "<Figure size 432x288 with 1 Axes>"
      ]
     },
     "metadata": {},
     "output_type": "display_data"
    }
   ],
   "source": [
    "print\"                Histogram for age\"\n",
    "table[\"age\"].plot(kind=\"hist\",bins=15)"
   ]
  },
  {
   "cell_type": "markdown",
   "metadata": {},
   "source": [
    "#### 10.Using a bargraph, plot the distribution of the values of the region attribute."
   ]
  },
  {
   "cell_type": "code",
   "execution_count": 127,
   "metadata": {},
   "outputs": [
    {
     "data": {
      "image/png": "[encoded data removed]",
      "text/plain": [
       "<Figure size 432x288 with 1 Axes>"
      ]
     },
     "metadata": {},
     "output_type": "display_data"
    }
   ],
   "source": [
    "#first compute the frequency of each category within variable region\n",
    "region_tb=table.groupby([\"region\"])[\"region\"].count()\n",
    "plt.show(region_tb.plot(kind=\"bar\"))"
   ]
  },
  {
   "cell_type": "markdown",
   "metadata": {},
   "source": [
    "### 11.Perform a cross-tabulation of the region attribute with the pep attribute. This requires the aggregation of the occurrences of each pep value (yes or no) separately for each value of the region attribute. \n"
   ]
  },
  {
   "cell_type": "code",
   "execution_count": 105,
   "metadata": {},
   "outputs": [
    {
     "data": {
      "text/html": [
       "<div>\n",
       "<style scoped>\n",
       "    .dataframe tbody tr th:only-of-type {\n",
       "        vertical-align: middle;\n",
       "    }\n",
       "\n",
       "    .dataframe tbody tr th {\n",
       "        vertical-align: top;\n",
       "    }\n",
       "\n",
       "    .dataframe thead th {\n",
       "        text-align: right;\n",
       "    }\n",
       "</style>\n",
       "<table border=\"1\" class=\"dataframe\">\n",
       "  <thead>\n",
       "    <tr style=\"text-align: right;\">\n",
       "      <th>pep</th>\n",
       "      <th>NO</th>\n",
       "      <th>YES</th>\n",
       "    </tr>\n",
       "    <tr>\n",
       "      <th>region</th>\n",
       "      <th></th>\n",
       "      <th></th>\n",
       "    </tr>\n",
       "  </thead>\n",
       "  <tbody>\n",
       "    <tr>\n",
       "      <th>INNER_CITY</th>\n",
       "      <td>146</td>\n",
       "      <td>123</td>\n",
       "    </tr>\n",
       "    <tr>\n",
       "      <th>RURAL</th>\n",
       "      <td>50</td>\n",
       "      <td>46</td>\n",
       "    </tr>\n",
       "    <tr>\n",
       "      <th>SUBURBAN</th>\n",
       "      <td>28</td>\n",
       "      <td>34</td>\n",
       "    </tr>\n",
       "    <tr>\n",
       "      <th>TOWN</th>\n",
       "      <td>102</td>\n",
       "      <td>71</td>\n",
       "    </tr>\n",
       "  </tbody>\n",
       "</table>\n",
       "</div>"
      ],
      "text/plain": [
       "pep          NO  YES\n",
       "region              \n",
       "INNER_CITY  146  123\n",
       "RURAL        50   46\n",
       "SUBURBAN     28   34\n",
       "TOWN        102   71"
      ]
     },
     "execution_count": 105,
     "metadata": {},
     "output_type": "execute_result"
    }
   ],
   "source": [
    "gg=pd.crosstab(table[\"region\"],table[\"pep\"])\n",
    "gg"
   ]
  },
  {
   "cell_type": "code",
   "execution_count": 109,
   "metadata": {},
   "outputs": [
    {
     "data": {
      "image/png": "[encoded data removed]",
      "text/plain": [
       "<Figure size 432x288 with 1 Axes>"
      ]
     },
     "metadata": {},
     "output_type": "display_data"
    }
   ],
   "source": [
    "plt.show(gg.plot(kind=\"bar\"))"
   ]
  }
 ],
 "metadata": {
  "kernelspec": {
   "display_name": "Python [conda env:py27]",
   "language": "python",
   "name": "conda-env-py27-py"
  },
  "language_info": {
   "codemirror_mode": {
    "name": "ipython",
    "version": 2
   },
   "file_extension": ".py",
   "mimetype": "text/x-python",
   "name": "python",
   "nbconvert_exporter": "python",
   "pygments_lexer": "ipython2",
   "version": "2.7.14"
  }
 },
 "nbformat": 4,
 "nbformat_minor": 2
}
