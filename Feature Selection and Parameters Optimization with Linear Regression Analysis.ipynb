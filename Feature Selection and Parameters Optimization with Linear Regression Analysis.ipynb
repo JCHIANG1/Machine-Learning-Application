{
 "cells": [
  {
   "cell_type": "markdown",
   "metadata": {},
   "source": [
    "## Feature Selection and Parameters Optimization with Linear Regression Analysis\n",
    "For this task, I will accomplish the following goal:\n",
    "\n",
    "1.Experiment with linear regression models to make predictions with numerical data. \n",
    "\n",
    "2.Explore more systematic methods for feature selection and for optimizing model parameters for model selection. \n",
    "\n"
   ]
  },
  {
   "cell_type": "markdown",
   "metadata": {},
   "source": [
    "### Data Set Information\n",
    "The data set is a subset of the \"communities and Crime\" data set comes from http://facweb.cs.depaul.edu/mobasher/classes/csc478/Data/communities-descr.txt (see detail description in the link) that combines information from the 1990 census data as well as FBI crime data from 1995.  \n",
    "The target attribute for regression purposes is \"ViolentCrimesPerPop\". The two identifier attributes \"state\" and \"community name\" should be excluded for the regression task."
   ]
  },
  {
   "cell_type": "markdown",
   "metadata": {},
   "source": [
    "### 1. Preprocess the Data and Compute Basic Statistics\n",
    "The provided data is already normalized (see description), so there is no need for additional normalization. "
   ]
  },
  {
   "cell_type": "code",
   "execution_count": 99,
   "metadata": {
    "collapsed": true
   },
   "outputs": [],
   "source": [
    "import numpy as np\n",
    "import pandas as pd"
   ]
  },
  {
   "cell_type": "code",
   "execution_count": 100,
   "metadata": {
    "collapsed": true
   },
   "outputs": [],
   "source": [
    "#load the data\n",
    "data=pd.read_csv(\"C:/Users/Rai Chiang/Desktop/478 data/assignment3/communities.csv\",na_values=[\"?\"])\n",
    "\n",
    "#check the data type make sure all of them are in the same formate\n",
    "data.columns[data.dtypes != \"float64\"].values\n",
    "\n",
    "#filter the row that contains null value\n",
    "data[data.isnull().any(axis=1)]\n",
    "\n",
    "#drop the row contain null value\n",
    "data.drop(130,inplace=True)\n",
    "\n",
    "#split data into x and y:target\n",
    "data.drop([\"state\",\"communityname\"],axis=1,inplace=True)\n",
    "target=np.array(data.ViolentCrimesPerPop,dtype='float64')              \n",
    "data.drop([\"ViolentCrimesPerPop\"],axis=1,inplace=True)\n",
    "data_ready=np.array(data,dtype='float64')\n",
    "\n",
    "#data exploratory\n",
    "#print data_ready.describe().T\n"
   ]
  },
  {
   "cell_type": "code",
   "execution_count": 101,
   "metadata": {
    "collapsed": true
   },
   "outputs": [],
   "source": [
    "#preparation \n",
    "\n",
    "#Least Squares Generalization y_hat=w.T*x ==> assign 1 to x0 and intercept as w0\n",
    "X=np.array([np.concatenate((x,[1])) for x in data_ready]) #np.concatenate: join a sequence of arrays along an existing axis.(by default the axis=0)\n",
    "\n",
    "y_target=target #1D array / When you are passing label (y) data to fit(X,y), it expects y to be 1D list."
   ]
  },
  {
   "cell_type": "markdown",
   "metadata": {},
   "source": [
    "### 2. Perform Standard Linear Regression and the Following Tasks\n",
    "a) Compute the RMSE value on the full training data. \n",
    "\n",
    "b) Plot the correlation between the predicted and actual values of the target attribute. \n",
    "\n",
    "c) Display the obtained regression coefficients (weights). \n",
    "\n",
    "d) Perform 10-fold cross-validation and compare the cross-validation RMSE to the training RMSE "
   ]
  },
  {
   "cell_type": "code",
   "execution_count": 102,
   "metadata": {
    "collapsed": true
   },
   "outputs": [],
   "source": [
    "import pylab as pl"
   ]
  },
  {
   "cell_type": "code",
   "execution_count": 104,
   "metadata": {},
   "outputs": [
    {
     "name": "stdout",
     "output_type": "stream",
     "text": [
      "Standard Linear Regession Coefficients:\n",
      "\n",
      "[[ 1.58394687e-01 -3.02481869e-02  2.12229063e-01 -3.97237986e-02\n",
      "  -1.27930326e-02  6.36900639e-02  1.22194419e-01 -2.23124229e-01\n",
      "  -1.42627637e-01  5.64658800e-02 -2.60230134e-01  4.65037847e-02\n",
      "  -2.00798143e-01 -2.08126761e-01  4.70792802e-02 -1.73534979e-01\n",
      "   5.82291674e-02  1.05064444e-02 -9.22106451e-02  2.72565616e-01\n",
      "   9.72713359e-02 -3.26302914e-01 -2.89431388e-02 -3.59461641e-02\n",
      "   2.28885702e-02  4.31169895e-02  3.76737976e-02  1.19950473e-01\n",
      "  -1.83693623e-01 -9.47657739e-02  5.55240764e-02  1.07281673e-01\n",
      "   3.24692051e-03  2.34646790e-01 -3.87649999e-02 -1.03179240e-02\n",
      "   4.87331629e-01  2.23501778e-01  1.95680279e-01 -6.09603366e-01\n",
      "  -1.37531328e-01  5.78881584e-02 -3.48705517e-01 -3.63011027e-02\n",
      "   3.18567061e-04  5.73144283e-02 -1.83223819e-01 -1.56736510e-01\n",
      "   1.30876568e-01 -1.42989741e-01  2.41003168e-02  3.51231959e-02\n",
      "  -7.51880947e-02  3.13067150e-02 -3.09769559e-02 -2.23123389e-01\n",
      "   4.44778318e-01 -1.90505607e-01 -2.11867268e-02 -1.39832020e-01\n",
      "   5.72276516e-02 -2.07798143e-01  6.47474344e-01 -7.48614235e-02\n",
      "  -2.50464211e-01 -6.69267650e-01  1.97555120e-01  1.03772298e-01\n",
      "   2.93735670e-02  1.66760060e-01 -4.08619231e-02  5.60042500e-01\n",
      "   4.53308898e-02 -7.74693964e-02 -2.95662893e-02  8.75265792e-03\n",
      "  -1.36583666e-02 -3.44122989e-01  2.70216168e-01  8.56985376e-03\n",
      "  -2.34032103e-01 -3.72752186e-02 -6.34433398e-02  3.76117090e-01\n",
      "   3.92332673e-02 -4.37652624e-02 -8.08701392e-02  1.31163307e-01\n",
      "   1.83394279e-01  1.22680856e-01  6.42109584e-03 -2.03383095e-02\n",
      "   2.94915376e-02  1.14868587e-02  2.59657369e-02 -1.25052609e-02\n",
      "  -3.78848193e-02  5.74152313e-01]] \n",
      "\n",
      " RMSE for training set: [[0.12869119]]\n",
      "\n",
      "\n",
      " RMSE for 10 folds Cross Validation: [[0.0151057]]\n"
     ]
    },
    {
     "data": {
      "image/png": "[encoded data removed]",
      "text/plain": [
       "<Figure size 432x288 with 1 Axes>"
      ]
     },
     "metadata": {},
     "output_type": "display_data"
    }
   ],
   "source": [
    "from sklearn.cross_validation import KFold\n",
    "\n",
    "#RMSE for training set\n",
    "x=np.mat(X) #Numpy matrices are strictly 2-dimensional, while numpy arrays (ndarrays) are N-dimensional\n",
    "y=np.mat(y_target)\n",
    "xTx=(x.T)*x \n",
    "if np.linalg.det(xTx)!=0:\n",
    "    w=(xTx.I)*(x.T*y.T) #be carful with the shape\n",
    "    y_hat=w.T*x.T #apply the weight w on the test data\n",
    "    error=y-y_hat\n",
    "    rmse=np.sqrt((error*error.T)/len(X)) #because dot product only exists in array therefore in matrix use multi;lication\n",
    "    print \"Standard Linear Regession Coefficients:\\n\\n\",W.T,\n",
    "    print \"\\n\\n RMSE for training set:\",rmse\n",
    "\n",
    "    \n",
    "#plot the output for training set\n",
    "pl.plot(y_hat,y,\"ro\")\n",
    "pl.plot([0,1.0],[0,1.0],\"g-\")\n",
    "pl.xlabel(\"predicted\")\n",
    "pl.ylabel(\"actual\")\n",
    "pl.title(\"RMSE output for training set\")\n",
    "\n",
    "\n",
    "#RMSE from cross validation    \n",
    "kf=KFold(len(x),n_folds=10)\n",
    "xval_err=0\n",
    "for train,test in kf:\n",
    "    xtx=(x[train].T)*x[train]\n",
    "    if np.linalg.det(xtx) !=0:\n",
    "        w=(xtx.I)*(x[train].T*y.T[train])\n",
    "        y_hat=w.T*x[test].T\n",
    "        error=y.T[test]-y_hat.T\n",
    "        xval_err+=np.sqrt((error.T*error)/len(X[test]))\n",
    "    xval_err=xval_err/10\n",
    "print \"\\n\\n RMSE for 10 folds Cross Validation:\",xval_err\n"
   ]
  },
  {
   "cell_type": "markdown",
   "metadata": {},
   "source": [
    "### 3. Feature Selection: apply scikit-learn regression model with a subset of features \n",
    "\n",
    "a). Write a script or function for feature selection that takes as input the training data, target variable; the model; and any other parameters that is necessary, and returns the optimal percentage of the most informative features to use. \n",
    "\n",
    "b). The approach is done with k-fold cross-validation on the training data (k=5). Then apply feature_selection.SelectPercentile to find the most informative variables. \n",
    "\n",
    "c). A list of most informative variables and their weights is shown below\n",
    "4.Plot the model's mean absolute error values on cross-validation relative to the percentage of selected features\n",
    "\n",
    "\n",
    "*Note: since this is regression not classification, the scoring function in feature_selection should be ANOVA F value rather than chi2. On the other hand, in order to use cross_validation.cross_val_score with regression, scoring function should be 'mean_absolute_error' as a parameter."
   ]
  },
  {
   "cell_type": "code",
   "execution_count": 107,
   "metadata": {
    "collapsed": true
   },
   "outputs": [],
   "source": [
    "from sklearn import cross_validation,feature_selection\n",
    "from sklearn.linear_model import LinearRegression\n",
    "from sklearn.metrics import mean_squared_error\n",
    "import operator\n",
    "\n",
    "def best_percetile(train_data,train_target):\n",
    "    lin= LinearRegression()\n",
    "    results={}\n",
    "    p=range(1,100,20)\n",
    "    for i in p:\n",
    "        fs=feature_selection.SelectPercentile(feature_selection.f_regression,percentile=i)\n",
    "        fs_train_x=fs.fit_transform(train_data,train_target)\n",
    "        scores = cross_validation.cross_val_score(lin,fs_train_x,train_target,scoring='neg_mean_squared_error',cv=5)\n",
    "        results[i]=abs(scores.mean())\n",
    "    best_p=sorted(results.items(), key=operator.itemgetter(1))[0][0] #sorted the dic by value in increasing order\n",
    "\n",
    "    \n",
    "    fs_best=feature_selection.SelectPercentile(feature_selection.f_regression,percentile=(best_p))\n",
    "    fs_best_train_x=fs_best.fit_transform(train_data,train_target)\n",
    "    lin.fit(fs_best_train_x,train_target)\n",
    "    sub_set_feature=fs_best.get_support()\n",
    "    columns_name_array=data.columns.values\n",
    "    columns_name_array=np.concatenate((columns_name_array,[1])) #original data has 97 columns, but I set 1 to x0 so the dim became 98\n",
    "    \n",
    "    print \"The optimal percentage of the most informative features to use:%0.5f\"%(best_p),\"%\"\n",
    "    print \"\\nThe most informative variables:\\n\",columns_name_array[sub_set_feature]\n",
    "    print \"\\nWeights for the most informative variables:\\n\",lin.coef_\n",
    "    \n",
    "    \n",
    "    pl.figure()\n",
    "    pl.xlabel(\"percentage of feature selected\")\n",
    "    pl.ylabel(\"Cross validation mean absolute error\")\n",
    "    sort=sorted(results.items(), key=operator.itemgetter(0))\n",
    "    x, y = zip(*sort)\n",
    "    pl.plot(p,y)\n",
    "       "
   ]
  },
  {
   "cell_type": "code",
   "execution_count": 108,
   "metadata": {},
   "outputs": [
    {
     "name": "stdout",
     "output_type": "stream",
     "text": [
      "The optimal percentage of the most informative features to use:41.00000 %\n",
      "\n",
      "The most informative variables:\n",
      "['population' 'racepctblack' 'racePctWhite' 'numbUrban' 'medIncome'\n",
      " 'pctWWage' 'pctWInvInc' 'pctWPubAsst' 'medFamInc' 'perCapInc'\n",
      " 'NumUnderPov' 'PctPopUnderPov' 'PctLess9thGrade' 'PctNotHSGrad'\n",
      " 'PctBSorMore' 'PctUnemployed' 'PctEmploy' 'MalePctDivorce' 'FemalePctDiv'\n",
      " 'TotalPctDiv' 'PctFam2Par' 'PctKids2Par' 'PctYoungKids2Par' 'PctTeen2Par'\n",
      " 'NumIlleg' 'PctIlleg' 'PctLargHouseFam' 'PctPersOwnOccup'\n",
      " 'PctPersDenseHous' 'PctHousLess3BR' 'MedNumBR' 'HousVacant'\n",
      " 'PctHousOccup' 'PctHousOwnOcc' 'PctVacantBoarded' 'PctHousNoPhone'\n",
      " 'PctWOFullPlumb' 'MedRentPctHousInc' 'NumInShelters' 'NumStreet']\n",
      "\n",
      "Weights for the most informative variables:\n",
      "[-0.94619162  0.16624292 -0.01292695  0.73694332  0.07336495 -0.16858478\n",
      " -0.19991412  0.06099273  0.04342962 -0.02204247  0.14202864 -0.10154221\n",
      " -0.11240481  0.07179141  0.09128007 -0.02418517  0.06504551  0.53866767\n",
      "  0.35479575 -0.80634224  0.02875193 -0.26056355 -0.04672199  0.00861014\n",
      " -0.19773369  0.18740078 -0.06307677 -0.16030748  0.28372783  0.04113533\n",
      "  0.01076242  0.27129942  0.00482036  0.17633398  0.05878002  0.01063631\n",
      " -0.01956205  0.02045058  0.09433875  0.17155687]\n"
     ]
    },
    {
     "data": {
      "image/png": "[encoded data removed]",
      "text/plain": [
       "<Figure size 432x288 with 1 Axes>"
      ]
     },
     "metadata": {},
     "output_type": "display_data"
    }
   ],
   "source": [
    "best_percetile(X,y_target)"
   ]
  },
  {
   "cell_type": "markdown",
   "metadata": {},
   "source": [
    "### 4. Perform both Ridge Regression and Lasso Regression using the modules from sklearn, in each case, perform systematic model selection to identify the optimal alpha parameter. \n",
    "\n",
    "a). Create a 20%-80% randomized split of the data. Set aside the test portion; the model selection process should be performed using the 80% training data partition. \n",
    "\n",
    "b). Create a function that takes as input the data and target variable; the parameter to vary and a list of its values; the model to be trained; and any other relevant input needed to determine the optimal value for the specified parameter. \n",
    "\n",
    "c). The model selection process performs k-fold cross validation (k is a parameter, k=5 for this task).\n",
    "\n",
    "d).  Plot the error values on the training and cross-validation splits across the specified values of the alpha parameter. \n",
    "\n",
    "e). Use the best alpha value and run the model on the set-aside test data."
   ]
  },
  {
   "cell_type": "code",
   "execution_count": 114,
   "metadata": {},
   "outputs": [],
   "source": [
    "from sklearn.linear_model import LinearRegression,Lasso,Ridge\n",
    "import pylab as pl\n",
    "from sklearn.cross_validation import train_test_split\n",
    "\n",
    "#split data\n",
    "X_train,X_test,y_train,y_test=train_test_split(X,y_target,test_size=20,random_state=7)\n",
    "\n",
    "#systematic identify the optimal alpha parameter\n",
    "def best_model(data,target,values,model,kfolds,result,plot):\n",
    "    train_rmse=[]\n",
    "    cv_rmse=[]\n",
    "    ap=[]\n",
    "    \n",
    "    \n",
    "    for a in values:         \n",
    "        if model==\"Lasso\":\n",
    "            met=Lasso(fit_intercept=True,alpha=a)\n",
    "            met.fit(data,target)\n",
    "            p=met.predict(data)\n",
    "            error=p-target\n",
    "            total_error=np.dot(error,error)\n",
    "            rmse_train = np.sqrt(total_error/len(p))\n",
    "            train_rmse.append(rmse_train)\n",
    "            ap.append(a)  \n",
    "            \n",
    "        elif model==\"Ridge\":\n",
    "            met=Ridge(fit_intercept=True,alpha=a)\n",
    "            met.fit(data,target)\n",
    "            p=met.predict(data)\n",
    "            error=p-target\n",
    "            total_error=np.dot(error,error)\n",
    "            rmse_train = np.sqrt(total_error/len(p))\n",
    "            train_rmse.append(rmse_train)\n",
    "            ap.append(a)\n",
    "         \n",
    "        #cross validation\n",
    "        n_folds=kfolds\n",
    "        kf=KFold(len(data),n_folds)\n",
    "        xval_err=0\n",
    "        for train,test in kf:\n",
    "            met.fit(data[train],target[train])\n",
    "            p=met.predict(data[test])\n",
    "            error=p-target[test]\n",
    "            xval_err+=np.sqrt(np.dot(error,error)/len(data[test]))\n",
    "        rmse_kfold=xval_err/n_folds\n",
    "        cv_rmse.append(rmse_kfold)\n",
    "   \n",
    "    \n",
    "    #find the optimal alpha\n",
    "    min_rmse=min(cv_rmse)\n",
    "    for j,i in enumerate(cv_rmse):\n",
    "        if i == min_rmse:\n",
    "            optimal_alpha=j \n",
    "            \n",
    "    if result==\"show\":\n",
    "        print \"rmse on input dataset:\",train_rmse\n",
    "        print \"cv_rmse: \",cv_rmse\n",
    "    else:\n",
    "        pass\n",
    "    \n",
    "    print \"optimal_alpha/applied alpha value\",ap[optimal_alpha]\n",
    "    \n",
    "    #plot the error values on the training and cross-validation \n",
    "    if plot==\"show\":\n",
    "        pl.plot(ap,train_rmse,label=\"Train_RMSE\")\n",
    "        pl.plot(ap,cv_rmse,label=\"Xval_RMSE\")\n",
    "        pl.legend((\"Train_RMSE\",\"Xval_RMSE\"))\n",
    "        pl.xlabel(\"Alpha\")\n",
    "        pl.ylabel(\"RMSE\")\n",
    "        pl.show()\n",
    "    else:\n",
    "        pass\n",
    " \n",
    "    "
   ]
  },
  {
   "cell_type": "code",
   "execution_count": 116,
   "metadata": {},
   "outputs": [
    {
     "name": "stdout",
     "output_type": "stream",
     "text": [
      "optimal_alpha/applied alpha value 1.233877551020408\n"
     ]
    },
    {
     "data": {
      "image/png": "[encoded data removed]",
      "text/plain": [
       "<Figure size 432x288 with 1 Axes>"
      ]
     },
     "metadata": {},
     "output_type": "display_data"
    }
   ],
   "source": [
    "#find the optimal alpha on train set for Ridge Regression\n",
    "\n",
    "alpha=np.linspace(.01,20,50)    \n",
    "best_model(X_train,y_train,alpha,model=\"Ridge\",kfolds=5,result=\"skip\",plot=\"show\") "
   ]
  },
  {
   "cell_type": "code",
   "execution_count": 118,
   "metadata": {
    "scrolled": true
   },
   "outputs": [
    {
     "name": "stdout",
     "output_type": "stream",
     "text": [
      "\n",
      "Apply Best Alpha on Test Set\n",
      "rmse on input dataset: [0.07881539547195347]\n",
      "cv_rmse:  [0.17115965049556398]\n",
      "optimal_alpha/applied alpha value 1.23387755102\n"
     ]
    }
   ],
   "source": [
    "#Apply the best alpha value on the test data.\n",
    "\n",
    "print \"\\nApply Best Alpha on Test Set\"\n",
    "best_model(X_test,y_test,[1.233877551020408],model=\"Ridge\",kfolds=5,result=\"show\",plot=\"skip\") "
   ]
  },
  {
   "cell_type": "markdown",
   "metadata": {},
   "source": [
    "#### According to the results above, the optimal alpha value for ridge regression is 1.23, which is located at the lowest rmse point for cross validation result also on the middle climbing of the train rmse result. When applying this result on the test set the performance yieds very low rmse which proves that the chosen alpha value is the optimal value \n",
    "-----------------------------------------------------------------------------------------------------------------------------"
   ]
  },
  {
   "cell_type": "code",
   "execution_count": 112,
   "metadata": {},
   "outputs": [
    {
     "name": "stdout",
     "output_type": "stream",
     "text": [
      "optimal_alpha/applied alpha value 0.01\n"
     ]
    },
    {
     "data": {
      "image/png": "[encoded data removed]",
      "text/plain": [
       "<Figure size 432x288 with 1 Axes>"
      ]
     },
     "metadata": {},
     "output_type": "display_data"
    }
   ],
   "source": [
    "#find the optimal alpha on train set for Lasso Regression\n",
    "\n",
    "alpha=np.linspace(.01,20,50)    \n",
    "best_model(X_train,y_train,alpha,model=\"Lasso\",kfolds=5,result=\"skip\",plot=\"show\") "
   ]
  },
  {
   "cell_type": "code",
   "execution_count": 113,
   "metadata": {},
   "outputs": [
    {
     "name": "stdout",
     "output_type": "stream",
     "text": [
      "\n",
      "Apply Best Alpha on Test Set\n",
      "rmse on input dataset: [0.1278650431275135]\n",
      "cv_rmse:  [0.16658058601058096]\n",
      "optimal_alpha/applied alpha value 0.01\n"
     ]
    }
   ],
   "source": [
    "#Apply the best alpha value on the test data\n",
    "\n",
    "print \"\\nApply Best Alpha on Test Set\"\n",
    "best_model(X_test,y_test,[0.01],model=\"Lasso\",kfolds=5,result=\"show\",plot=\"skip\")"
   ]
  },
  {
   "cell_type": "markdown",
   "metadata": {},
   "source": [
    "#### According to the plot above, the opimal alpha value for lesso regrssion is 0.01, according to the plot, the rmse from both the train set and the 5 folds cross validation results are highly overlap. The result might indicate that as the alpha value goes up, the rmse will go up dramatically and the model will become serverly overfitting. That's why the optimal alpha value is very small, only when it's small the rmse can be low as shown in the result from the test set application.\n",
    "--------------------------------------------------------------------------------------------------------------------------------"
   ]
  },
  {
   "cell_type": "markdown",
   "metadata": {},
   "source": [
    "### 5. Perform regression using Stochastic Gradient Descent\n",
    "\n",
    "a).Start by a creating randomized 80%-20% train-test split. \n",
    "\n",
    "b).SGDRegessor requires that features be standardized (with 0 mean and scaled by standard deviation). Prior to fiting the model, perform the scaling using StandardScaler from sklearn.preprocessing. \n",
    "\n",
    "c).For this problem, perform a grid search (using GridSearchCV from sklearn.grid_search) the grid search compare combinations of two penalty parameters ('l2', 'l1') and different values of alpha (alpha could vary from 0.0001 which is the default to relatively large values, say 10). \n",
    "\n",
    "d).Using the best parameters, apply the model to the set-aside test data. \n",
    "\n",
    "e).Finally, perform model selection (similar to part d, above) to find the best \"l1_ratio\" parameter using SGDRegressor with  the \"elasticnet\" penalty parameter. \n",
    "\n",
    "f).Using the best mixing ratio, apply the Elastic Net model to the set-aside test data. Provide a summary of your findings from the above experiments.\n",
    "\n",
    "*Note: \"l1_ratio\" is The Elastic Net mixing parameter, with 0 <= l1_ratio <= 1;  l1_ratio=0 corresponds to L2 penalty, l1_ratio=1 to L1 penalty; defaults to 0.15. \n"
   ]
  },
  {
   "cell_type": "code",
   "execution_count": 8,
   "metadata": {
    "scrolled": true
   },
   "outputs": [
    {
     "name": "stderr",
     "output_type": "stream",
     "text": [
      "C:\\Anacon\\envs\\py27\\lib\\site-packages\\sklearn\\grid_search.py:42: DeprecationWarning: This module was deprecated in version 0.18 in favor of the model_selection module into which all the refactored classes and functions are moved. This module will be removed in 0.20.\n",
      "  DeprecationWarning)\n",
      "C:\\Anacon\\envs\\py27\\lib\\site-packages\\sklearn\\linear_model\\stochastic_gradient.py:128: FutureWarning: max_iter and tol parameters have been added in <class 'sklearn.linear_model.stochastic_gradient.SGDRegressor'> in 0.19. If both are left unset, they default to max_iter=5 and tol=None. If tol is not None, max_iter defaults to max_iter=1000. From 0.21, default max_iter will be 1000, and default tol will be 1e-3.\n",
      "  \"and default tol will be 1e-3.\" % type(self), FutureWarning)\n"
     ]
    },
    {
     "name": "stdout",
     "output_type": "stream",
     "text": [
      "Fitting 10 folds for each of 60 candidates, totalling 600 fits\n",
      "The optimal prameters:  {'penalty': 'l2', 'alpha': 0.3449241379310345}\n",
      "The grid search score:  0.648938205875\n"
     ]
    },
    {
     "name": "stderr",
     "output_type": "stream",
     "text": [
      "[Parallel(n_jobs=1)]: Done 600 out of 600 | elapsed:    5.9s finished\n"
     ]
    }
   ],
   "source": [
    "from sklearn.cross_validation import train_test_split\n",
    "#80%-20% train-test split\n",
    "e_X_train,e_X_test,e_y_train,e_y_test=train_test_split(X,y_target,test_size=20,random_state=8)\n",
    "\n",
    "#prior to fiting the model, perform the scaling\n",
    "from sklearn.preprocessing import StandardScaler\n",
    "scaler=StandardScaler()\n",
    "transform_X_train=scaler.fit_transform(e_X_train)\n",
    "\n",
    "#explor and compare the parameters\n",
    "from sklearn.linear_model import SGDRegressor\n",
    "sgdr=SGDRegressor()\n",
    "\n",
    "#perform a grid search:compare combinations of two penalty parameters ('l2', 'l1') and different values of alpha 0.0001 to 10\n",
    "from sklearn.grid_search import GridSearchCV\n",
    "\n",
    "parameters={\n",
    "    'alpha':np.linspace(0.0001,10,30),\n",
    "    'penalty': ['l2','L1']\n",
    "    \n",
    "           }\n",
    "\n",
    "gs=GridSearchCV(sgdr,parameters,verbose=1,cv=10)\n",
    "gs.fit(transform_X_train,e_y_train)\n",
    "print\"The optimal prameters: \",gs.best_params_\n",
    "print \"The grid search score for train set: \",gs.best_score_\n"
   ]
  },
  {
   "cell_type": "code",
   "execution_count": 17,
   "metadata": {},
   "outputs": [
    {
     "name": "stderr",
     "output_type": "stream",
     "text": [
      "C:\\Anacon\\envs\\py27\\lib\\site-packages\\sklearn\\linear_model\\stochastic_gradient.py:117: DeprecationWarning: n_iter parameter is deprecated in 0.19 and will be removed in 0.21. Use max_iter and tol instead.\n",
      "  DeprecationWarning)\n"
     ]
    },
    {
     "name": "stdout",
     "output_type": "stream",
     "text": [
      "RMSE for test set with the optimal set of parameters:  0.07080748665884042\n"
     ]
    }
   ],
   "source": [
    "#Using the best parameters, apply the model to the set-aside test data. \n",
    "\n",
    "sgdr_best=SGDRegressor(penalty='l2',alpha=0.3449241379310345, n_iter=300)\n",
    "sgdr_best.fit(transform_X_train,e_y_train)\n",
    "p=sgdr_best.predict(e_X_test)\n",
    "error=p-e_y_test\n",
    "rmse=np.sqrt(np.dot(error,error))/len(p)\n",
    "print \"RMSE for test set with the optimal set of parameters: \", rmse"
   ]
  },
  {
   "cell_type": "code",
   "execution_count": 16,
   "metadata": {},
   "outputs": [
    {
     "name": "stdout",
     "output_type": "stream",
     "text": [
      "Fitting 10 folds for each of 1500 candidates, totalling 15000 fits\n",
      "The optimal prameters for SGDRegressor with the 'elasticnet' penalty parameter.: {'penalty': 'elasticnet', 'alpha': 0.0001, 'l1_ratio': 0.7959183673469387}\n"
     ]
    },
    {
     "name": "stderr",
     "output_type": "stream",
     "text": [
      "[Parallel(n_jobs=1)]: Done 15000 out of 15000 | elapsed:  3.1min finished\n"
     ]
    }
   ],
   "source": [
    "#perform model selection find the best \"l1_ratio\" parameter using SGDRegressor with the \"elasticnet\" penalty parameter.\n",
    "\n",
    "parameters={\n",
    "    'alpha':np.linspace(0.0001,10,30),\n",
    "    'penalty': [\"elasticnet\"],\n",
    "    'l1_ratio':np.linspace(0,1,50)\n",
    "           }\n",
    "sgdr=SGDRegressor()\n",
    "gs1=GridSearchCV(sgdr,parameters,verbose=1,cv=10)\n",
    "gs1.fit(transform_X_train,e_y_train)\n",
    "print\"The optimal prameters for SGDRegressor with the 'elasticnet' penalty parameter.:\",gs1.best_params_\n"
   ]
  },
  {
   "cell_type": "code",
   "execution_count": 20,
   "metadata": {},
   "outputs": [
    {
     "name": "stderr",
     "output_type": "stream",
     "text": [
      "C:\\Anacon\\envs\\py27\\lib\\site-packages\\sklearn\\linear_model\\stochastic_gradient.py:117: DeprecationWarning: n_iter parameter is deprecated in 0.19 and will be removed in 0.21. Use max_iter and tol instead.\n",
      "  DeprecationWarning)\n"
     ]
    },
    {
     "name": "stdout",
     "output_type": "stream",
     "text": [
      "RMSE for test set with the optimal set of parameters:  0.07340253296092726\n"
     ]
    }
   ],
   "source": [
    "#fit the optimal parameters on the test set\n",
    "\n",
    "sgdr_best1=SGDRegressor(penalty='elasticnet',alpha=0.0001,l1_ratio=0.7959183673469387,n_iter=300)\n",
    "sgdr_best1.fit(transform_X_train,e_y_train)\n",
    "p1=sgdr_best1.predict(e_X_test)\n",
    "error=p1-e_y_test\n",
    "rmse1=np.sqrt(np.dot(error,error))/len(p)\n",
    "print \"RMSE for test set with the optimal set of parameters: \", rmse1"
   ]
  }
 ],
 "metadata": {
  "kernelspec": {
   "display_name": "Python [conda env:py27]",
   "language": "python",
   "name": "conda-env-py27-py"
  },
  "language_info": {
   "codemirror_mode": {
    "name": "ipython",
    "version": 2
   },
   "file_extension": ".py",
   "mimetype": "text/x-python",
   "name": "python",
   "nbconvert_exporter": "python",
   "pygments_lexer": "ipython2",
   "version": "2.7.14"
  }
 },
 "nbformat": 4,
 "nbformat_minor": 2
}
